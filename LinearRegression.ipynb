{
  "nbformat": 4,
  "nbformat_minor": 0,
  "metadata": {
    "colab": {
      "name": "LinearRegression.ipynb",
      "provenance": [],
      "collapsed_sections": []
    },
    "kernelspec": {
      "name": "python3",
      "display_name": "Python 3"
    },
    "language_info": {
      "name": "python"
    }
  },
  "cells": [
    {
      "cell_type": "code",
      "execution_count": 1,
      "metadata": {
        "id": "fDHAiKTVIU0U"
      },
      "outputs": [],
      "source": [
        "import numpy as np\n",
        "import pandas as pd\n",
        "import seaborn as sns\n",
        "import matplotlib.pyplot as plt\n",
        "from sklearn import metrics\n",
        "from sklearn import preprocessing\n",
        "from sklearn.linear_model import LinearRegression\n",
        "from sklearn.model_selection import train_test_split\n",
        "%matplotlib inline\n",
        "sns.set(style= 'darkgrid')\n",
        "sns.set_palette('deep')"
      ]
    },
    {
      "cell_type": "code",
      "source": [
        "# Cargar csv a dataframe\n",
        "df = pd.read_csv('books.csv', error_bad_lines=False)"
      ],
      "metadata": {
        "id": "EtlrBJNaJHpU"
      },
      "execution_count": null,
      "outputs": []
    },
    {
      "cell_type": "code",
      "source": [
        "# Imprimir primeras 5 filas\n",
        "df.head()"
      ],
      "metadata": {
        "id": "ObYO7d9dJbkD"
      },
      "execution_count": null,
      "outputs": []
    },
    {
      "cell_type": "code",
      "source": [
        "# Revisión de features y data types\n",
        "df.info()"
      ],
      "metadata": {
        "id": "cwVY9N3zJg5z"
      },
      "execution_count": null,
      "outputs": []
    },
    {
      "cell_type": "code",
      "source": [
        "df.duplicated().any()"
      ],
      "metadata": {
        "id": "c9suMtBqJ5TH"
      },
      "execution_count": null,
      "outputs": []
    },
    {
      "cell_type": "code",
      "source": [
        "# Valoraciones más frecuentes\n",
        "sns.kdeplot(df['average_rating'], shade=False)\n",
        "plt.title('Distribución de valoraciones')\n",
        "plt.xlabel('Valoración')\n",
        "plt.ylabel('Frecuencia')"
      ],
      "metadata": {
        "id": "i3ax8pV8KCGo"
      },
      "execution_count": null,
      "outputs": []
    },
    {
      "cell_type": "code",
      "source": [
        "# Idiomas más populares\n",
        "df['language_code'].value_counts().head().plot(kind='pie', autopct='%1.1f%%', figsize=(8, 8)).legend()"
      ],
      "metadata": {
        "id": "PJEq5AmDKdkj"
      },
      "execution_count": null,
      "outputs": []
    },
    {
      "cell_type": "code",
      "source": [
        "# Libros que ha recibido cada valoración\n",
        "sns.barplot(df['average_rating'].value_counts().head(15).index, df['average_rating'].value_counts().head(15))\n",
        "plt.title('Número de libros que ha recibido cada valoración\\n')\n",
        "plt.xlabel('Valoraciones')\n",
        "plt.ylabel('Conteo')\n",
        "plt.xticks(rotation=100)"
      ],
      "metadata": {
        "id": "5htvV3D1Kzy4"
      },
      "execution_count": null,
      "outputs": []
    },
    {
      "cell_type": "code",
      "source": [
        "# Libros más populares\n",
        "most_popular = df.nlargest(5, ['ratings_count']).set_index('title')['ratings_count']\n",
        "sns.barplot(most_popular, most_popular.index)"
      ],
      "metadata": {
        "id": "_qpT6tXULhUI"
      },
      "execution_count": null,
      "outputs": []
    },
    {
      "cell_type": "code",
      "source": [
        "# Libros más reseñados\n",
        "most_reviewed = df.nlargest(5, ['text_reviews_count'])\n",
        "sns.barplot(most_reviewed['text_reviews_count'], most_reviewed['title'])"
      ],
      "metadata": {
        "id": "kzIKSj5lMCzh"
      },
      "execution_count": null,
      "outputs": []
    },
    {
      "cell_type": "code",
      "source": [
        "# Top 5 de libros menores a 100 páginas\n",
        "under2 = df[df['# num_pages'] <= 100]\n",
        "top5 = under2.nlargest(5, ['ratings_count'])\n",
        "sns.barplot(top5['ratings_count'], top5['title'], hue=top5['average_rating'])\n",
        "plt.xticks(rotation=90)"
      ],
      "metadata": {
        "id": "cuWAg23EMd6o"
      },
      "execution_count": null,
      "outputs": []
    },
    {
      "cell_type": "code",
      "source": [
        "# Top 5 de los libros más largos\n",
        "long_book = df.nlargest(5, ['# num_pages']).set_index('title')\n",
        "sns.barplot(long_book['# num_pages'], long_book.index)"
      ],
      "metadata": {
        "id": "wHv9ZLLXNZrP"
      },
      "execution_count": null,
      "outputs": []
    },
    {
      "cell_type": "code",
      "source": [
        "# Autores con mejores valoraciones\n",
        "plt.figure(figsize=(10, 5))\n",
        "autores = df.nlargest(5, ['ratings_count']).set_index('authors')\n",
        "sns.barplot(autores['ratings_count'], autores.index, ci = None, hue = autores['title'])\n",
        "plt.xlabel('Valoraciones totales')"
      ],
      "metadata": {
        "id": "Bwcfe0DINz8e"
      },
      "execution_count": null,
      "outputs": []
    },
    {
      "cell_type": "code",
      "source": [
        "# Autores con más publicaciones\n",
        "topAutores = df['authors'].value_counts().head()\n",
        "sns.barplot(topAutores, topAutores.index)\n",
        "plt.title('Autores con más publicaciones')\n",
        "plt.xlabel('# de publicaciones')"
      ],
      "metadata": {
        "id": "27Q91MKiQq0T"
      },
      "execution_count": null,
      "outputs": []
    },
    {
      "cell_type": "code",
      "source": [
        "# Visualización de una distribución entre valoraciones y número de páginas\n",
        "sns.jointplot(x = 'average_rating', y = '# num_pages', data = df)"
      ],
      "metadata": {
        "id": "-dqAPf-qRCzC"
      },
      "execution_count": null,
      "outputs": []
    },
    {
      "cell_type": "code",
      "source": [
        "# Datos fuera del rango común (outliers)\n",
        "sns.boxplot(x=df['# num_pages'])"
      ],
      "metadata": {
        "id": "Aj-kFcYIRkZH"
      },
      "execution_count": null,
      "outputs": []
    },
    {
      "cell_type": "code",
      "source": [
        "# Remoción de outliers\n",
        "df = df.drop(df.index[df['# num_pages'] >= 1000])"
      ],
      "metadata": {
        "id": "gGiHtB2oRwH1"
      },
      "execution_count": 37,
      "outputs": []
    },
    {
      "cell_type": "code",
      "source": [
        "# Encontrar outliers en las valoraciones\n",
        "sns.boxplot(x=df['ratings_count'])"
      ],
      "metadata": {
        "id": "OHMLwSO0R5MR"
      },
      "execution_count": null,
      "outputs": []
    },
    {
      "cell_type": "code",
      "source": [
        "# Remoción de outliers\n",
        "df = df.drop(df.index[df['ratings_count'] >= 1000000])"
      ],
      "metadata": {
        "id": "TIEdyFS-SEYb"
      },
      "execution_count": 39,
      "outputs": []
    },
    {
      "cell_type": "code",
      "source": [
        "df = df.drop(df.index[df['text_reviews_count'] >= 20000])"
      ],
      "metadata": {
        "id": "3fSvXnmESPQt"
      },
      "execution_count": 40,
      "outputs": []
    },
    {
      "cell_type": "code",
      "source": [
        "le = preprocessing.LabelEncoder()\n",
        "df['title'] = le.fit_transform(df['title'])"
      ],
      "metadata": {
        "id": "OowyMDuKSbEk"
      },
      "execution_count": 42,
      "outputs": []
    },
    {
      "cell_type": "code",
      "source": [
        "df['authors'] = le.fit_transform(df['authors'])"
      ],
      "metadata": {
        "id": "CXoWLerNSnnU"
      },
      "execution_count": 43,
      "outputs": []
    },
    {
      "cell_type": "code",
      "source": [
        "enc_lang = pd.get_dummies(df['language_code'])\n",
        "df = pd.concat([df, enc_lang], axis=1)"
      ],
      "metadata": {
        "id": "gOtJbwqfSwGy"
      },
      "execution_count": 44,
      "outputs": []
    },
    {
      "cell_type": "code",
      "source": [
        "# Dividir datos en atributos y etiquetas\n",
        "X = df.drop(['average_rating', 'language_code', 'isbn'], axis=1)\n",
        "y = df['average_rating']"
      ],
      "metadata": {
        "id": "VW2i_EDFS5vV"
      },
      "execution_count": 46,
      "outputs": []
    },
    {
      "cell_type": "code",
      "source": [
        "# Dividir el set para entrenamiento y para validación\n",
        "X_train, X_test, y_train, y_test = train_test_split(X, y, test_size=0.2, random_state=10)"
      ],
      "metadata": {
        "id": "qaPgxKBFTH6t"
      },
      "execution_count": 47,
      "outputs": []
    },
    {
      "cell_type": "code",
      "source": [
        "LR = LinearRegression()\n",
        "LR.fit(X_train, y_train)\n",
        "predict = LR.predict(X_test)"
      ],
      "metadata": {
        "id": "zgmGLvqOTX0l"
      },
      "execution_count": 48,
      "outputs": []
    },
    {
      "cell_type": "code",
      "source": [
        "prd = pd.DataFrame({'Actual': y_test.tolist(), 'Predicciones': predict.tolist()}).head(25)\n",
        "prd.head(10)"
      ],
      "metadata": {
        "colab": {
          "base_uri": "https://localhost:8080/",
          "height": 359
        },
        "id": "URs9TxoLTknF",
        "outputId": "a2792b0a-6b2d-4c3d-ac91-b8f9f7ff9604"
      },
      "execution_count": 54,
      "outputs": [
        {
          "output_type": "execute_result",
          "data": {
            "text/html": [
              "\n",
              "  <div id=\"df-6c65954c-7cf8-47bd-a017-91377ce2e33f\">\n",
              "    <div class=\"colab-df-container\">\n",
              "      <div>\n",
              "<style scoped>\n",
              "    .dataframe tbody tr th:only-of-type {\n",
              "        vertical-align: middle;\n",
              "    }\n",
              "\n",
              "    .dataframe tbody tr th {\n",
              "        vertical-align: top;\n",
              "    }\n",
              "\n",
              "    .dataframe thead th {\n",
              "        text-align: right;\n",
              "    }\n",
              "</style>\n",
              "<table border=\"1\" class=\"dataframe\">\n",
              "  <thead>\n",
              "    <tr style=\"text-align: right;\">\n",
              "      <th></th>\n",
              "      <th>Actual</th>\n",
              "      <th>Predicciones</th>\n",
              "    </tr>\n",
              "  </thead>\n",
              "  <tbody>\n",
              "    <tr>\n",
              "      <th>0</th>\n",
              "      <td>3.89</td>\n",
              "      <td>3.906723</td>\n",
              "    </tr>\n",
              "    <tr>\n",
              "      <th>1</th>\n",
              "      <td>3.68</td>\n",
              "      <td>3.852341</td>\n",
              "    </tr>\n",
              "    <tr>\n",
              "      <th>2</th>\n",
              "      <td>4.24</td>\n",
              "      <td>3.971296</td>\n",
              "    </tr>\n",
              "    <tr>\n",
              "      <th>3</th>\n",
              "      <td>4.16</td>\n",
              "      <td>3.959876</td>\n",
              "    </tr>\n",
              "    <tr>\n",
              "      <th>4</th>\n",
              "      <td>3.95</td>\n",
              "      <td>3.844046</td>\n",
              "    </tr>\n",
              "    <tr>\n",
              "      <th>5</th>\n",
              "      <td>4.18</td>\n",
              "      <td>3.963695</td>\n",
              "    </tr>\n",
              "    <tr>\n",
              "      <th>6</th>\n",
              "      <td>3.30</td>\n",
              "      <td>3.910567</td>\n",
              "    </tr>\n",
              "    <tr>\n",
              "      <th>7</th>\n",
              "      <td>4.08</td>\n",
              "      <td>3.872314</td>\n",
              "    </tr>\n",
              "    <tr>\n",
              "      <th>8</th>\n",
              "      <td>3.61</td>\n",
              "      <td>3.905194</td>\n",
              "    </tr>\n",
              "    <tr>\n",
              "      <th>9</th>\n",
              "      <td>3.93</td>\n",
              "      <td>3.879550</td>\n",
              "    </tr>\n",
              "  </tbody>\n",
              "</table>\n",
              "</div>\n",
              "      <button class=\"colab-df-convert\" onclick=\"convertToInteractive('df-6c65954c-7cf8-47bd-a017-91377ce2e33f')\"\n",
              "              title=\"Convert this dataframe to an interactive table.\"\n",
              "              style=\"display:none;\">\n",
              "        \n",
              "  <svg xmlns=\"http://www.w3.org/2000/svg\" height=\"24px\"viewBox=\"0 0 24 24\"\n",
              "       width=\"24px\">\n",
              "    <path d=\"M0 0h24v24H0V0z\" fill=\"none\"/>\n",
              "    <path d=\"M18.56 5.44l.94 2.06.94-2.06 2.06-.94-2.06-.94-.94-2.06-.94 2.06-2.06.94zm-11 1L8.5 8.5l.94-2.06 2.06-.94-2.06-.94L8.5 2.5l-.94 2.06-2.06.94zm10 10l.94 2.06.94-2.06 2.06-.94-2.06-.94-.94-2.06-.94 2.06-2.06.94z\"/><path d=\"M17.41 7.96l-1.37-1.37c-.4-.4-.92-.59-1.43-.59-.52 0-1.04.2-1.43.59L10.3 9.45l-7.72 7.72c-.78.78-.78 2.05 0 2.83L4 21.41c.39.39.9.59 1.41.59.51 0 1.02-.2 1.41-.59l7.78-7.78 2.81-2.81c.8-.78.8-2.07 0-2.86zM5.41 20L4 18.59l7.72-7.72 1.47 1.35L5.41 20z\"/>\n",
              "  </svg>\n",
              "      </button>\n",
              "      \n",
              "  <style>\n",
              "    .colab-df-container {\n",
              "      display:flex;\n",
              "      flex-wrap:wrap;\n",
              "      gap: 12px;\n",
              "    }\n",
              "\n",
              "    .colab-df-convert {\n",
              "      background-color: #E8F0FE;\n",
              "      border: none;\n",
              "      border-radius: 50%;\n",
              "      cursor: pointer;\n",
              "      display: none;\n",
              "      fill: #1967D2;\n",
              "      height: 32px;\n",
              "      padding: 0 0 0 0;\n",
              "      width: 32px;\n",
              "    }\n",
              "\n",
              "    .colab-df-convert:hover {\n",
              "      background-color: #E2EBFA;\n",
              "      box-shadow: 0px 1px 2px rgba(60, 64, 67, 0.3), 0px 1px 3px 1px rgba(60, 64, 67, 0.15);\n",
              "      fill: #174EA6;\n",
              "    }\n",
              "\n",
              "    [theme=dark] .colab-df-convert {\n",
              "      background-color: #3B4455;\n",
              "      fill: #D2E3FC;\n",
              "    }\n",
              "\n",
              "    [theme=dark] .colab-df-convert:hover {\n",
              "      background-color: #434B5C;\n",
              "      box-shadow: 0px 1px 3px 1px rgba(0, 0, 0, 0.15);\n",
              "      filter: drop-shadow(0px 1px 2px rgba(0, 0, 0, 0.3));\n",
              "      fill: #FFFFFF;\n",
              "    }\n",
              "  </style>\n",
              "\n",
              "      <script>\n",
              "        const buttonEl =\n",
              "          document.querySelector('#df-6c65954c-7cf8-47bd-a017-91377ce2e33f button.colab-df-convert');\n",
              "        buttonEl.style.display =\n",
              "          google.colab.kernel.accessAllowed ? 'block' : 'none';\n",
              "\n",
              "        async function convertToInteractive(key) {\n",
              "          const element = document.querySelector('#df-6c65954c-7cf8-47bd-a017-91377ce2e33f');\n",
              "          const dataTable =\n",
              "            await google.colab.kernel.invokeFunction('convertToInteractive',\n",
              "                                                     [key], {});\n",
              "          if (!dataTable) return;\n",
              "\n",
              "          const docLinkHtml = 'Like what you see? Visit the ' +\n",
              "            '<a target=\"_blank\" href=https://colab.research.google.com/notebooks/data_table.ipynb>data table notebook</a>'\n",
              "            + ' to learn more about interactive tables.';\n",
              "          element.innerHTML = '';\n",
              "          dataTable['output_type'] = 'display_data';\n",
              "          await google.colab.output.renderOutput(dataTable, element);\n",
              "          const docLink = document.createElement('div');\n",
              "          docLink.innerHTML = docLinkHtml;\n",
              "          element.appendChild(docLink);\n",
              "        }\n",
              "      </script>\n",
              "    </div>\n",
              "  </div>\n",
              "  "
            ],
            "text/plain": [
              "   Actual  Predicciones\n",
              "0    3.89      3.906723\n",
              "1    3.68      3.852341\n",
              "2    4.24      3.971296\n",
              "3    4.16      3.959876\n",
              "4    3.95      3.844046\n",
              "5    4.18      3.963695\n",
              "6    3.30      3.910567\n",
              "7    4.08      3.872314\n",
              "8    3.61      3.905194\n",
              "9    3.93      3.879550"
            ]
          },
          "metadata": {},
          "execution_count": 54
        }
      ]
    },
    {
      "cell_type": "code",
      "source": [
        "prd.plot(kind='bar', figsize=(13, 7))"
      ],
      "metadata": {
        "colab": {
          "base_uri": "https://localhost:8080/",
          "height": 452
        },
        "id": "gSGJuiB7T4YM",
        "outputId": "c57ff0df-21e5-4ad5-97c3-2c0899c1fba0"
      },
      "execution_count": 55,
      "outputs": [
        {
          "output_type": "execute_result",
          "data": {
            "text/plain": [
              "<matplotlib.axes._subplots.AxesSubplot at 0x7f4560992310>"
            ]
          },
          "metadata": {},
          "execution_count": 55
        },
        {
          "output_type": "display_data",
          "data": {
            "image/png": "[encoded data removed]",
            "text/plain": [
              "<Figure size 936x504 with 1 Axes>"
            ]
          },
          "metadata": {
            "needs_background": "light"
          }
        }
      ]
    },
    {
      "cell_type": "code",
      "source": [
        "print('EAM:', metrics.mean_absolute_error(y_test, predict))\n",
        "print('ECM:', metrics.mean_squared_error(y_test, predict))"
      ],
      "metadata": {
        "colab": {
          "base_uri": "https://localhost:8080/"
        },
        "id": "_h8fC4oNUL8B",
        "outputId": "c45421c9-717a-4edb-868f-c71788ca4b4d"
      },
      "execution_count": 56,
      "outputs": [
        {
          "output_type": "stream",
          "name": "stdout",
          "text": [
            "EAM: 0.2233009129125104\n",
            "ECM: 0.09825688679850104\n"
          ]
        }
      ]
    }
  ]
}